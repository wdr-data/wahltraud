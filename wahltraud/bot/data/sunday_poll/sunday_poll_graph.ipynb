{
 "cells": [
  {
   "cell_type": "code",
   "execution_count": 179,
   "metadata": {
    "collapsed": true
   },
   "outputs": [],
   "source": [
    "import pandas as pd\n",
    "import matplotlib.pyplot as plt\n",
    "%matplotlib inline"
   ]
  },
  {
   "cell_type": "code",
   "execution_count": 222,
   "metadata": {
    "collapsed": false
   },
   "outputs": [],
   "source": [
    "color_dict = {\"Sonstige\": \"grey\",\n",
    "            \"Linke\" :  \"#96276E\",\n",
    "\"FDP\":\"#F6BB00\",\n",
    "\"AfD\":\"#34A3D2\",\n",
    "\"SPD\":\"#DB4240\",\n",
    "\"CSU\":\"#373737\",\n",
    "\"CDU\":\"#373737\",\n",
    "\"CDU/CSU\": '#373737',\n",
    "\"Grüne\":\"#4BA345\",\n",
    "\"PIRATE\": \"#FF8800\"}"
   ]
  },
  {
   "cell_type": "code",
   "execution_count": 223,
   "metadata": {
    "collapsed": false
   },
   "outputs": [
    {
     "data": {
      "text/html": [
       "<div>\n",
       "<table border=\"1\" class=\"dataframe\">\n",
       "  <thead>\n",
       "    <tr style=\"text-align: right;\">\n",
       "      <th></th>\n",
       "      <th>Datum</th>\n",
       "      <th>CDU/CSU</th>\n",
       "      <th>SPD</th>\n",
       "      <th>Linke</th>\n",
       "      <th>Grüne</th>\n",
       "      <th>FDP</th>\n",
       "      <th>AfD</th>\n",
       "      <th>Sonstige</th>\n",
       "    </tr>\n",
       "  </thead>\n",
       "  <tbody>\n",
       "    <tr>\n",
       "      <th>0</th>\n",
       "      <td>25.08.17</td>\n",
       "      <td>38.0</td>\n",
       "      <td>22.0</td>\n",
       "      <td>9.0</td>\n",
       "      <td>8.0</td>\n",
       "      <td>9</td>\n",
       "      <td>10</td>\n",
       "      <td>4</td>\n",
       "    </tr>\n",
       "    <tr>\n",
       "      <th>1</th>\n",
       "      <td>09.08.17</td>\n",
       "      <td>39.0</td>\n",
       "      <td>24.0</td>\n",
       "      <td>9.0</td>\n",
       "      <td>8.0</td>\n",
       "      <td>8</td>\n",
       "      <td>8</td>\n",
       "      <td>4</td>\n",
       "    </tr>\n",
       "    <tr>\n",
       "      <th>2</th>\n",
       "      <td>28.07.17</td>\n",
       "      <td>40.0</td>\n",
       "      <td>23.0</td>\n",
       "      <td>8.0</td>\n",
       "      <td>8.0</td>\n",
       "      <td>8</td>\n",
       "      <td>9</td>\n",
       "      <td>4</td>\n",
       "    </tr>\n",
       "    <tr>\n",
       "      <th>3</th>\n",
       "      <td>06.07.17</td>\n",
       "      <td>39.0</td>\n",
       "      <td>23.0</td>\n",
       "      <td>9.0</td>\n",
       "      <td>8.0</td>\n",
       "      <td>9</td>\n",
       "      <td>9</td>\n",
       "      <td>3</td>\n",
       "    </tr>\n",
       "    <tr>\n",
       "      <th>4</th>\n",
       "      <td>16.06.17</td>\n",
       "      <td>39.0</td>\n",
       "      <td>24.0</td>\n",
       "      <td>8.0</td>\n",
       "      <td>7.0</td>\n",
       "      <td>9</td>\n",
       "      <td>8</td>\n",
       "      <td>5</td>\n",
       "    </tr>\n",
       "  </tbody>\n",
       "</table>\n",
       "</div>"
      ],
      "text/plain": [
       "      Datum  CDU/CSU   SPD  Linke  Grüne FDP AfD Sonstige\n",
       "0  25.08.17     38.0  22.0    9.0    8.0   9  10        4\n",
       "1  09.08.17     39.0  24.0    9.0    8.0   8   8        4\n",
       "2  28.07.17     40.0  23.0    8.0    8.0   8   9        4\n",
       "3  06.07.17     39.0  23.0    9.0    8.0   9   9        3\n",
       "4  16.06.17     39.0  24.0    8.0    7.0   9   8        5"
      ]
     },
     "execution_count": 223,
     "metadata": {},
     "output_type": "execute_result"
    }
   ],
   "source": [
    "data = pd.read_csv('sonntagsfrage.csv', delimiter = ';')\n",
    "data.rename(index=str, columns={\"Linke*\": \"Linke\", 'Union' : 'CDU/CSU'}, inplace = True)\n",
    "data.drop('Piraten', axis = 1, inplace = True)\n",
    "#data.convert_objects(convert_numeric=True)\n",
    "for label in ['CDU/CSU', 'SPD', 'Linke', 'Grüne', 'FDP', 'AfD', 'Sonstige']:\n",
    "    pd.to_numeric(data[label], errors = 'coerce')\n",
    "pd.to_datetime(data['Datum'])\n",
    "data.head()"
   ]
  },
  {
   "cell_type": "code",
   "execution_count": 224,
   "metadata": {
    "collapsed": false
   },
   "outputs": [
    {
     "data": {
      "text/plain": [
       "Index(['CDU/CSU', 'SPD', 'Linke', 'Grüne', 'FDP', 'AfD', 'Sonstige'], dtype='object')"
      ]
     },
     "execution_count": 224,
     "metadata": {},
     "output_type": "execute_result"
    }
   ],
   "source": [
    "data.columns\n",
    "poll[1:8].keys()"
   ]
  },
  {
   "cell_type": "code",
   "execution_count": 226,
   "metadata": {
    "collapsed": false
   },
   "outputs": [
    {
     "name": "stdout",
     "output_type": "stream",
     "text": [
      "[38, 22, 9, 8, 9, 10, 4]\n"
     ]
    },
    {
     "data": {
      "image/png": "[encoded data removed]",
      "text/plain": [
       "<matplotlib.figure.Figure at 0x10d34e0f0>"
      ]
     },
     "metadata": {},
     "output_type": "display_data"
    }
   ],
   "source": [
    "import numpy as np\n",
    "values = []\n",
    "label = []\n",
    "colors = []\n",
    "for nr in range(1,8):\n",
    "    values.append(int(data.iloc[0][nr]))\n",
    "    key = data.columns[nr]\n",
    "    label.append(key)\n",
    "    colors.append(color_dict[key])\n",
    "print(values)\n",
    "#values =[38,22,9,8,9,10,4]\n",
    "diff = []\n",
    "#label = ['CDU/CSU', 'SPD', 'Linke', 'Grüne', 'FDP', 'AfD', 'Sonstige']\n",
    "\n",
    "fig= plt.figure(figsize = (10,6))\n",
    "ax = plt.gca()\n",
    "index = np.arange(len(values))\n",
    "bar_width = 0.6\n",
    "ax.set_axisbelow(True)\n",
    "ax.yaxis.grid(color='gray', linestyle='-')\n",
    "ax.bar(index, values, bar_width,\n",
    "                 color= colors\n",
    "                 )\n",
    "plt.xticks(index +bar_width / 2-0.3,label ,fontsize=14)\n",
    "ax.tick_params(axis=u'both', which=u'both',length=0)\n",
    "plt.yticks([10,20,30,40],fontsize=16)\n",
    "xy = (index[0], values[0])\n",
    "for go in index:\n",
    "    text = str(values[go])+'%'\n",
    "    ax.annotate(text, xy=(index[go]-0.15, values[go]+2), fontsize=16)\n",
    "ax.set_ylim(0,45)\n",
    "ax.set_facecolor('0.95')\n",
    "ax.spines['top'].set_visible(False)\n",
    "ax.spines['right'].set_visible(False)\n",
    "#ax.spines['bottom'].set_visible(False)\n",
    "ax.spines['left'].set_visible(False)\n",
    "#plt.title('Sonntags-Frage vom '+ data['Datum'].iloc[0], fontsize = 24)\n",
    "plt.savefig('sonntagsfrage_aktuell.jpg', bbox_inches='tight')\n",
    "plt.show()"
   ]
  },
  {
   "cell_type": "code",
   "execution_count": 183,
   "metadata": {
    "collapsed": false
   },
   "outputs": [
    {
     "data": {
      "text/plain": [
       "<matplotlib.figure.Figure at 0x10dac1eb8>"
      ]
     },
     "metadata": {},
     "output_type": "display_data"
    },
    {
     "data": {
      "image/png": "[encoded data removed]",
      "text/plain": [
       "<matplotlib.figure.Figure at 0x10d9e87b8>"
      ]
     },
     "metadata": {},
     "output_type": "display_data"
    }
   ],
   "source": [
    "plt.figure() \n",
    "data = data.iloc[0:50]\n",
    "data.plot(x = 'Datum', y=['CDU/CSU','SPD','Linke', 'Grüne', 'FDP', 'AfD', 'Sonstige' ], color = ['black', 'red', 'purple', 'green'])\n",
    "plt.show()"
   ]
  },
  {
   "cell_type": "code",
   "execution_count": null,
   "metadata": {
    "collapsed": true
   },
   "outputs": [],
   "source": []
  }
 ],
 "metadata": {
  "kernelspec": {
   "display_name": "Python 3",
   "language": "python",
   "name": "python3"
  },
  "language_info": {
   "codemirror_mode": {
    "name": "ipython",
    "version": 3
   },
   "file_extension": ".py",
   "mimetype": "text/x-python",
   "name": "python",
   "nbconvert_exporter": "python",
   "pygments_lexer": "ipython3",
   "version": "3.6.0"
  }
 },
 "nbformat": 4,
 "nbformat_minor": 2
}
